{
 "cells": [
  {
   "cell_type": "code",
   "execution_count": null,
   "id": "130408ac-2523-4891-959d-32fe43826f53",
   "metadata": {},
   "outputs": [],
   "source": [
    "# !pip install python-dotenv langchain-core langchain-openai langchain-community"
   ]
  },
  {
   "cell_type": "markdown",
   "id": "64d4178c-9871-4f73-8aff-4a7d0016341f",
   "metadata": {},
   "source": [
    "# Setup the demo"
   ]
  },
  {
   "cell_type": "code",
   "execution_count": 27,
   "id": "12466449-88b3-45c7-ba19-2a9abc50d5b4",
   "metadata": {},
   "outputs": [],
   "source": [
    "import json\n",
    "import os\n",
    "\n",
    "from dotenv import load_dotenv\n",
    "\n",
    "from langchain_openai.chat_models import ChatOpenAI\n",
    "from langchain_core.prompts import ChatPromptTemplate\n"
   ]
  },
  {
   "cell_type": "code",
   "execution_count": 20,
   "id": "2bba593b-93f5-4760-9c09-5bfa1f1d6522",
   "metadata": {},
   "outputs": [
    {
     "data": {
      "text/plain": [
       "True"
      ]
     },
     "execution_count": 20,
     "metadata": {},
     "output_type": "execute_result"
    }
   ],
   "source": [
    "load_dotenv(\"../.env\")"
   ]
  },
  {
   "cell_type": "code",
   "execution_count": 60,
   "id": "f715a055-e805-479c-9129-798e3f45a28e",
   "metadata": {},
   "outputs": [],
   "source": [
    "system_message = (\n",
    "    \"You are given HTML elements of a German news website.\"\n",
    "    \"The elements do not only contain the content of the news articles but also some additional elements \"\n",
    "    \"such as menu items, tables, dates, authors, etc. \"\n",
    "    \"The objective is to extract only the relevant news article content and ignore the rest. \"\n",
    "    \"Return a single string containing the result and keep the result in German.\"\n",
    "    \"Limit your response to at most five paragraphs.\"\n",
    ")\n",
    "\n",
    "\n",
    "def extract_news_article_text(html_input, llm):\n",
    "    prompt = ChatPromptTemplate.from_messages(\n",
    "        [\n",
    "            (\"system\", system_message),\n",
    "            (\"human\", \"{input}\")\n",
    "        ]\n",
    "    )\n",
    "    chain = prompt | llm\n",
    "    response = chain.invoke({\"input\": html_input})\n",
    "    return response\n",
    "\n",
    "\n",
    "api_cost = {\n",
    "    \"gpt-4o\": {\n",
    "        \"prompt_tokens\": 0.01,\n",
    "        \"completion_tokens\": 0.03,\n",
    "    },\n",
    "}\n",
    "\n",
    "def calculate_cost(llm_response, model_name):\n",
    "    token_usage = llm_response.response_metadata[\"token_usage\"]\n",
    "    prompt_tokens = token_usage[\"prompt_tokens\"]\n",
    "    prompt_tokens_cost = api_cost[model_name][\"prompt_tokens\"]\n",
    "    completion_tokens = token_usage[\"completion_tokens\"]\n",
    "    completion_tokens_cost = api_cost[model_name][\"completion_tokens\"]\n",
    "    \n",
    "    total_cost = (prompt_tokens * prompt_tokens_cost + completion_tokens * completion_tokens_cost) / 1000\n",
    "    return total_cost"
   ]
  },
  {
   "cell_type": "code",
   "execution_count": 51,
   "id": "17bdb574-1a8a-40eb-8173-458d78b966fd",
   "metadata": {},
   "outputs": [],
   "source": [
    "llm = ChatOpenAI(model=\"gpt-4o\", temperature=0, api_key=os.getenv(\"OPENAI_API_KEY\"))"
   ]
  },
  {
   "cell_type": "markdown",
   "id": "7fd71a9f-57b9-4106-9211-5d79afc6a652",
   "metadata": {},
   "source": [
    "# Example 1"
   ]
  },
  {
   "cell_type": "markdown",
   "id": "4f0c07e9-d1b5-4a28-83ae-7e88706d3888",
   "metadata": {},
   "source": [
    "[Link](https://www.handelsblatt.com/finanzen/banken-versicherungen/banken/ukraine-krieg-grossbanken-im-euroraum-haben-russland-engagements-deutlich-verringert-01/100037514.html) to the news article."
   ]
  },
  {
   "cell_type": "code",
   "execution_count": 52,
   "id": "9d25b6c1-3028-416b-981b-2848ea49bcd1",
   "metadata": {},
   "outputs": [
    {
     "name": "stdout",
     "output_type": "stream",
     "text": [
      "<html>\n",
      " <body>\n",
      "  <app-root>\n",
      "   <div>\n",
      "    <div>\n",
      "     <span>\n",
      "      Menü\n",
      "     </span>\n",
      "     <span>\n",
      "      Anmelden\n",
      "     </span>\n",
      "    </div>\n",
      "    <article>\n",
      "     <app-story-detail-page-header>\n",
      "      <div>\n",
      "       <app-header-content-kicker>\n",
      "        <span>\n",
      "         Ukraine-Krieg\n",
      "        </span>\n",
      "       </app-header-content-kicker>\n",
      "       <app-header-content-headline>\n",
      "        <h2>\n",
      "         Großbanken im Euroraum haben Russland-Engagements deutlich verringert\n",
      "        </h2>\n",
      "       </app-header-content-headline>\n",
      "       <app-header-content-lead-text>\n",
      "        Die Banken der Euro-Zone haben ihr Engagement in Russland stark gesenkt. Die Europäische Zentralbank hatte den Rückgang gefordert. Nun macht aber ein anderer Bereich Sorgen.\n",
      "       </app-header-content-lead-text>\n",
      "       <app-story-date>\n",
      "        15.05.2024 - 11:30 Uhr\n",
      "       </app-story-date>\n",
      "      </div>\n",
      "     </app-story-detail-page-header>\n",
      "     <app-storyline-elements>\n",
      "      <app-storyline-element>\n",
      "       <p>\n",
      "        <span>\n",
      "         Frankfurt.\n",
      "        </span>\n",
      "        Große Geldhäuser aus Ländern der Euro-Zone haben ihre Engagements in\n",
      "        <a>\n",
      "         Russland\n",
      "        </a>\n",
      "        laut\n",
      "        <a>\n",
      "         EZB\n",
      "        </a>\n",
      "        um mehr als die Hälfte verringert. Die Europäische Zentralbank (EZB) habe die Präsenz der Großinstitute dort genau überwacht, erklärte EZB-Chefbankenaufseherin Claudia Buch am Montag in einer Mitteilung zu einem Treffen der Euro-Finanzminister in Brüssel.\n",
      "       </p>\n",
      "      </app-storyline-element>\n",
      "      <app-storyline-element>\n",
      "       <p>\n",
      "        „Die Engagements scheinen sich ziemlich in Grenzen zu halten, und die direkten Engagements sind zwischen Ende 2021 und Ende 2023 um 55 Prozent zurückgegangen“, führte sie aus. Einige Banken hätten sich vollständig aus dem russischen Markt zurückgezogen.\n",
      "       </p>\n",
      "      </app-storyline-element>\n",
      "     </app-storyline-elements>\n",
      "    </article>\n",
      "   </div>\n",
      "  </app-root>\n",
      " </body>\n",
      "</html>\n",
      "\n"
     ]
    }
   ],
   "source": [
    "html_content = json.load(open(\"../data/100037514.html\"))\n",
    "print(html_content)"
   ]
  },
  {
   "cell_type": "code",
   "execution_count": 53,
   "id": "57f875bd-b71d-4e1c-af8b-c83bf9eee7ef",
   "metadata": {},
   "outputs": [
    {
     "name": "stdout",
     "output_type": "stream",
     "text": [
      "Ukraine-Krieg\n",
      "\n",
      "Großbanken im Euroraum haben Russland-Engagements deutlich verringert\n",
      "\n",
      "Die Banken der Euro-Zone haben ihr Engagement in Russland stark gesenkt. Die Europäische Zentralbank hatte den Rückgang gefordert. Nun macht aber ein anderer Bereich Sorgen.\n",
      "\n",
      "Frankfurt. Große Geldhäuser aus Ländern der Euro-Zone haben ihre Engagements in Russland laut EZB um mehr als die Hälfte verringert. Die Europäische Zentralbank (EZB) habe die Präsenz der Großinstitute dort genau überwacht, erklärte EZB-Chefbankenaufseherin Claudia Buch am Montag in einer Mitteilung zu einem Treffen der Euro-Finanzminister in Brüssel.\n",
      "\n",
      "„Die Engagements scheinen sich ziemlich in Grenzen zu halten, und die direkten Engagements sind zwischen Ende 2021 und Ende 2023 um 55 Prozent zurückgegangen“, führte sie aus. Einige Banken hätten sich vollständig aus dem russischen Markt zurückgezogen.\n"
     ]
    }
   ],
   "source": [
    "result = extract_news_article_text(html_content, llm)\n",
    "print(result.content)"
   ]
  },
  {
   "cell_type": "code",
   "execution_count": 54,
   "id": "0194993e-aaf5-4152-b010-f90e63fd745e",
   "metadata": {},
   "outputs": [
    {
     "data": {
      "text/plain": [
       "{'completion_tokens': 196, 'prompt_tokens': 564, 'total_tokens': 760}"
      ]
     },
     "execution_count": 54,
     "metadata": {},
     "output_type": "execute_result"
    }
   ],
   "source": [
    "result.response_metadata[\"token_usage\"]"
   ]
  },
  {
   "cell_type": "code",
   "execution_count": 55,
   "id": "8a5fb839-5e49-4737-b57c-b54b034654d3",
   "metadata": {},
   "outputs": [
    {
     "data": {
      "text/plain": [
       "0.011519999999999999"
      ]
     },
     "execution_count": 55,
     "metadata": {},
     "output_type": "execute_result"
    }
   ],
   "source": [
    "calculate_cost(result, \"gpt-4o\")"
   ]
  },
  {
   "cell_type": "markdown",
   "id": "e5600b6d-4938-4962-928b-3bf8d4f5bcc2",
   "metadata": {
    "tags": []
   },
   "source": [
    "# Example 2"
   ]
  },
  {
   "cell_type": "markdown",
   "id": "df829c6d-8987-4a19-900c-afeb843f297c",
   "metadata": {},
   "source": [
    "[Link](https://www.handelsblatt.com/finanzen/banken-versicherungen/banken/immobilien-pbb-soll-riesenportfolio-verkauf-mit-blackstone-verhandeln-01/100037533.html) to the news article."
   ]
  },
  {
   "cell_type": "code",
   "execution_count": 56,
   "id": "6dadd106-4f3a-440d-998a-8a330b78b3e8",
   "metadata": {},
   "outputs": [
    {
     "name": "stdout",
     "output_type": "stream",
     "text": [
      "<html>\n",
      " <body>\n",
      "  <app-root>\n",
      "   <div>\n",
      "    <div>\n",
      "     <span>\n",
      "      Menü\n",
      "     </span>\n",
      "     <span>\n",
      "      Anmelden\n",
      "     </span>\n",
      "    </div>\n",
      "    <article>\n",
      "     <app-story-detail-page-header>\n",
      "      <div>\n",
      "       <app-header-content-kicker>\n",
      "        <span>\n",
      "         Immobilien\n",
      "        </span>\n",
      "       </app-header-content-kicker>\n",
      "       <app-header-content-headline>\n",
      "        <h2>\n",
      "         PBB soll Riesenportfolio-Verkauf mit Blackstone verhandeln\n",
      "        </h2>\n",
      "       </app-header-content-headline>\n",
      "       <app-header-content-lead-text>\n",
      "        Die Bank verbucht im ersten Quartal trotz der Krise bei Büroimmobilien einen Gewinn. Sie steht kurz davor, ein großes Portfolio in den USA und Großbritannien zu verkaufen.\n",
      "       </app-header-content-lead-text>\n",
      "       <app-header-content-authors>\n",
      "        <app-authors-section>\n",
      "         <app-authors>\n",
      "          <a>\n",
      "           Elisabeth Atzler\n",
      "          </a>\n",
      "         </app-authors>\n",
      "         <app-story-date>\n",
      "          15.05.2024 - 10:30 Uhr\n",
      "         </app-story-date>\n",
      "        </app-authors-section>\n",
      "       </app-header-content-authors>\n",
      "      </div>\n",
      "     </app-story-detail-page-header>\n",
      "     <app-storyline-elements>\n",
      "      <app-storyline-element>\n",
      "       <p>\n",
      "        <span>\n",
      "         Frankfurt.\n",
      "        </span>\n",
      "        Kurz nach Amtsantritt des neuen Vorstandschefs erzielt der Immobilienfinanzierer\n",
      "        <a>\n",
      "         Deutsche Pfandbriefbank\n",
      "        </a>\n",
      "        (PBB) wieder einen Gewinn. Trotz der anhaltenden Krise bei Büro- und Gewerbeimmobilien  verdiente die Bank im ersten Quartal 2024 vor Steuern 34 Millionen Euro, was leicht über dem Vorjahreswert liegt. „Wir sind trotz volatiler Märkte gut in das Jahr 2024 gestartet“, sagte PBB-Chef Kay Wolf am Dienstag.\n",
      "       </p>\n",
      "      </app-storyline-element>\n",
      "      <app-storyline-element>\n",
      "       <p>\n",
      "        Der frühere Manager der\n",
      "        <a>\n",
      "         Deutschen Bank\n",
      "        </a>\n",
      "        hat den Posten im März von Andreas Arndt übernommen. Der Wechsel war seit dem vergangenen Herbst bekannt gewesen. Das solide Ergebnis unterstreiche, „dass die PBB eine im Kern gesunde und nachhaltig profitable Bank ist“, sagte Wolf. Die PBB-Aktie stieg am Dienstagnachmittag um sieben Prozent und setzte damit ihre Erholung fort. Zu Jahresbeginn war der Wert eingebrochen.\n",
      "       </p>\n",
      "      </app-storyline-element>\n",
      "     </app-storyline-elements>\n",
      "    </article>\n",
      "   </div>\n",
      "  </app-root>\n",
      " </body>\n",
      "</html>\n",
      "\n"
     ]
    }
   ],
   "source": [
    "html_content = json.load(open(\"../data/100037533.html\"))\n",
    "print(html_content)"
   ]
  },
  {
   "cell_type": "code",
   "execution_count": 61,
   "id": "3a338ff0-9c83-443a-a2aa-36cfa1b52e53",
   "metadata": {},
   "outputs": [
    {
     "name": "stdout",
     "output_type": "stream",
     "text": [
      "PBB soll Riesenportfolio-Verkauf mit Blackstone verhandeln. Die Bank verbucht im ersten Quartal trotz der Krise bei Büroimmobilien einen Gewinn. Sie steht kurz davor, ein großes Portfolio in den USA und Großbritannien zu verkaufen.\n",
      "\n",
      "Frankfurt. Kurz nach Amtsantritt des neuen Vorstandschefs erzielt der Immobilienfinanzierer Deutsche Pfandbriefbank (PBB) wieder einen Gewinn. Trotz der anhaltenden Krise bei Büro- und Gewerbeimmobilien verdiente die Bank im ersten Quartal 2024 vor Steuern 34 Millionen Euro, was leicht über dem Vorjahreswert liegt. „Wir sind trotz volatiler Märkte gut in das Jahr 2024 gestartet“, sagte PBB-Chef Kay Wolf am Dienstag.\n",
      "\n",
      "Der frühere Manager der Deutschen Bank hat den Posten im März von Andreas Arndt übernommen. Der Wechsel war seit dem vergangenen Herbst bekannt gewesen. Das solide Ergebnis unterstreiche, „dass die PBB eine im Kern gesunde und nachhaltig profitable Bank ist“, sagte Wolf. Die PBB-Aktie stieg am Dienstagnachmittag um sieben Prozent und setzte damit ihre Erholung fort. Zu Jahresbeginn war der Wert eingebrochen.\n"
     ]
    }
   ],
   "source": [
    "result = extract_news_article_text(html_content, llm)\n",
    "print(result.content)"
   ]
  },
  {
   "cell_type": "code",
   "execution_count": 62,
   "id": "681cc702-7b0f-4bd6-a538-b4e93f36e8d5",
   "metadata": {},
   "outputs": [
    {
     "data": {
      "text/plain": [
       "{'completion_tokens': 246, 'prompt_tokens': 677, 'total_tokens': 923}"
      ]
     },
     "execution_count": 62,
     "metadata": {},
     "output_type": "execute_result"
    }
   ],
   "source": [
    "result.response_metadata[\"token_usage\"]"
   ]
  },
  {
   "cell_type": "code",
   "execution_count": 63,
   "id": "93b9890b-8c6b-4943-bcc4-e83fd95ebaa6",
   "metadata": {},
   "outputs": [
    {
     "data": {
      "text/plain": [
       "0.014150000000000001"
      ]
     },
     "execution_count": 63,
     "metadata": {},
     "output_type": "execute_result"
    }
   ],
   "source": [
    "calculate_cost(result, \"gpt-4o\")"
   ]
  },
  {
   "cell_type": "markdown",
   "id": "b88d08ba-eeec-49cb-b582-e59b72455357",
   "metadata": {
    "tags": []
   },
   "source": [
    "# Example 3"
   ]
  },
  {
   "cell_type": "markdown",
   "id": "622a07a8-51bb-4d91-bc37-8f640481c364",
   "metadata": {},
   "source": [
    "[Link](https://www.handelsblatt.com/finanzen/banken-versicherungen/banken/finanzbranche-aareal-bank-muss-sich-neuen-finanzvorstand-suchen-ergebnis-steigt/100037723.html) to the news article."
   ]
  },
  {
   "cell_type": "code",
   "execution_count": 64,
   "id": "d653323a-8a6d-40c7-beeb-71f7a6c4b2e3",
   "metadata": {},
   "outputs": [
    {
     "name": "stdout",
     "output_type": "stream",
     "text": [
      "<html>\n",
      " <body>\n",
      "  <app-root>\n",
      "   <div>\n",
      "    <div>\n",
      "     <span>\n",
      "      Menü\n",
      "     </span>\n",
      "     <span>\n",
      "      Anmelden\n",
      "     </span>\n",
      "    </div>\n",
      "    <article>\n",
      "     <app-story-detail-page-header>\n",
      "      <div>\n",
      "       <app-header-content-kicker>\n",
      "        <span>\n",
      "         Finanzbranche\n",
      "        </span>\n",
      "       </app-header-content-kicker>\n",
      "       <app-header-content-headline>\n",
      "        <h2>\n",
      "         Aareal Bank muss sich neuen Finanzvorstand suchen – Ergebnis steigt\n",
      "        </h2>\n",
      "       </app-header-content-headline>\n",
      "       <app-header-content-lead-text>\n",
      "        Der Immobilienfinanzierer bekommt nach der Übernahme durch Investoren einen neuen Finanzvorstand. Risikokredite sortiert die Bank derweil weiter aus.\n",
      "       </app-header-content-lead-text>\n",
      "       <app-story-date>\n",
      "        15.05.2024 - 09:29 Uhr\n",
      "       </app-story-date>\n",
      "      </div>\n",
      "     </app-story-detail-page-header>\n",
      "     <app-storyline-elements>\n",
      "      <app-storyline-element>\n",
      "       <p>\n",
      "        <span>\n",
      "         Frankfurt.\n",
      "        </span>\n",
      "        Nach der Übernahme durch Finanzinvestoren bekommt der Immobilienfinanzierer\n",
      "        <a>\n",
      "         Aareal Bank\n",
      "        </a>\n",
      "        auch einen neuen Finanzvorstand. Marc Heß werde Ende des Jahres, wenn sein Vertrag auslaufe, aus dem Unternehmen ausscheiden, teilte das Wiesbadener Unternehmen am Mittwoch mit. Über seine Nachfolge werde zeitnah entschieden.\n",
      "       </p>\n",
      "      </app-storyline-element>\n",
      "      <app-storyline-element>\n",
      "       <p>\n",
      "        Ende Juli wechselt bereits der Vorstandschef: Jochen Klösges verlässt die\n",
      "        <a>\n",
      "         Aareal Bank\n",
      "        </a>\n",
      "        , sein Amt übernimmt Christian Ricken, bisher Vorstand bei der LBBW. Im vergangenen Jahr hatten die Finanzinvestoren Advent und Centerbridge sowie der kanadische Pensionsfonds CPPIB das Institut übernommen.\n",
      "       </p>\n",
      "      </app-storyline-element>\n",
      "     </app-storyline-elements>\n",
      "    </article>\n",
      "   </div>\n",
      "  </app-root>\n",
      " </body>\n",
      "</html>\n",
      "\n"
     ]
    }
   ],
   "source": [
    "html_content = json.load(open(\"../data/100037723.html\"))\n",
    "print(html_content)"
   ]
  },
  {
   "cell_type": "code",
   "execution_count": 65,
   "id": "9ff2a071-05d8-45ef-ac98-cd617f180525",
   "metadata": {},
   "outputs": [
    {
     "name": "stdout",
     "output_type": "stream",
     "text": [
      "Finanzbranche\n",
      "\n",
      "Aareal Bank muss sich neuen Finanzvorstand suchen – Ergebnis steigt\n",
      "\n",
      "Der Immobilienfinanzierer bekommt nach der Übernahme durch Investoren einen neuen Finanzvorstand. Risikokredite sortiert die Bank derweil weiter aus.\n",
      "\n",
      "Frankfurt. Nach der Übernahme durch Finanzinvestoren bekommt der Immobilienfinanzierer Aareal Bank auch einen neuen Finanzvorstand. Marc Heß werde Ende des Jahres, wenn sein Vertrag auslaufe, aus dem Unternehmen ausscheiden, teilte das Wiesbadener Unternehmen am Mittwoch mit. Über seine Nachfolge werde zeitnah entschieden.\n",
      "\n",
      "Ende Juli wechselt bereits der Vorstandschef: Jochen Klösges verlässt die Aareal Bank, sein Amt übernimmt Christian Ricken, bisher Vorstand bei der LBBW. Im vergangenen Jahr hatten die Finanzinvestoren Advent und Centerbridge sowie der kanadische Pensionsfonds CPPIB das Institut übernommen.\n"
     ]
    }
   ],
   "source": [
    "result = extract_news_article_text(html_content, llm)\n",
    "print(result.content)"
   ]
  },
  {
   "cell_type": "code",
   "execution_count": 66,
   "id": "f19d3695-e0f6-4f02-86ea-78c46be7316c",
   "metadata": {},
   "outputs": [
    {
     "data": {
      "text/plain": [
       "{'completion_tokens': 186, 'prompt_tokens': 556, 'total_tokens': 742}"
      ]
     },
     "execution_count": 66,
     "metadata": {},
     "output_type": "execute_result"
    }
   ],
   "source": [
    "result.response_metadata[\"token_usage\"]"
   ]
  },
  {
   "cell_type": "code",
   "execution_count": 67,
   "id": "07db84b4-7847-48ce-b1a3-5727d512cc93",
   "metadata": {},
   "outputs": [
    {
     "data": {
      "text/plain": [
       "0.01114"
      ]
     },
     "execution_count": 67,
     "metadata": {},
     "output_type": "execute_result"
    }
   ],
   "source": [
    "calculate_cost(result, \"gpt-4o\")"
   ]
  },
  {
   "cell_type": "code",
   "execution_count": null,
   "id": "8e50c7c7-db63-4a40-a6dc-35eea1334e7a",
   "metadata": {},
   "outputs": [],
   "source": []
  }
 ],
 "metadata": {
  "kernelspec": {
   "display_name": "insightfinder",
   "language": "python",
   "name": "insightfinder"
  },
  "language_info": {
   "codemirror_mode": {
    "name": "ipython",
    "version": 3
   },
   "file_extension": ".py",
   "mimetype": "text/x-python",
   "name": "python",
   "nbconvert_exporter": "python",
   "pygments_lexer": "ipython3",
   "version": "3.10.11"
  }
 },
 "nbformat": 4,
 "nbformat_minor": 5
}
